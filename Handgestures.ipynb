{
  "cells": [
    {
      "cell_type": "code",
      "execution_count": null,
      "metadata": {
        "id": "v4sJJ-yQExnD"
      },
      "outputs": [],
      "source": [
        "import numpy as np\n",
        "import pandas as pd\n",
        "import os\n",
        "import matplotlib.pyplot as plt\n",
        "\n",
        "import tensorflow as tf\n",
        "from tensorflow import keras\n",
        "from tensorflow.keras.utils import to_categorical\n",
        "from tensorflow.keras.preprocessing.image import load_img, img_to_array\n",
        "from tensorflow.keras.preprocessing.image import ImageDataGenerator\n",
        "\n",
        "from sklearn.metrics import classification_report, log_loss, accuracy_score\n",
        "from sklearn.model_selection import train_test_split"
      ]
    },
    {
      "cell_type": "code",
      "execution_count": null,
      "metadata": {
        "colab": {
          "base_uri": "https://localhost:8080/"
        },
        "id": "2RSGzKq55N7X",
        "outputId": "c49f82b9-507a-4b3f-90f6-e62eb3270bf0"
      },
      "outputs": [
        {
          "output_type": "stream",
          "name": "stdout",
          "text": [
            "Drive already mounted at /content/drive; to attempt to forcibly remount, call drive.mount(\"/content/drive\", force_remount=True).\n"
          ]
        }
      ],
      "source": [
        "from google.colab import drive\n",
        "drive.mount('/content/drive')"
      ]
    },
    {
      "cell_type": "code",
      "execution_count": null,
      "metadata": {
        "id": "E9lzKYz5E6c9"
      },
      "outputs": [],
      "source": [
        "directory = '/content/drive/MyDrive/Colab Notebooks/HandGesture/images'"
      ]
    },
    {
      "cell_type": "code",
      "execution_count": null,
      "metadata": {
        "colab": {
          "base_uri": "https://localhost:8080/"
        },
        "id": "zW6yYB5EE88d",
        "outputId": "161fbcf8-7e03-4a2d-fe25-23afe3c85f52"
      },
      "outputs": [
        {
          "output_type": "stream",
          "name": "stdout",
          "text": [
            "['up', 'okay', 'rock', 'rock_on', 'scissor', 'paper', 'thumbs', 'peace', 'fingers_crossed', 'call_me']\n",
            "10\n"
          ]
        }
      ],
      "source": [
        "Name=[]\n",
        "for file in os.listdir(directory):\n",
        "    if file[-4:]!='pt.m' and file[-4:]!='.txt':\n",
        "        Name+=[file]\n",
        "print(Name)\n",
        "print(len(Name))"
      ]
    },
    {
      "cell_type": "code",
      "execution_count": null,
      "metadata": {
        "colab": {
          "base_uri": "https://localhost:8080/"
        },
        "id": "46Y3bKurFAc-",
        "outputId": "a91b5a35-9de0-48c6-c3e9-09538ae80ec8"
      },
      "outputs": [
        {
          "output_type": "stream",
          "name": "stdout",
          "text": [
            "up\n",
            "okay\n",
            "rock\n",
            "rock_on\n",
            "scissor\n",
            "paper\n",
            "thumbs\n",
            "peace\n",
            "fingers_crossed\n",
            "call_me\n"
          ]
        }
      ],
      "source": [
        "N=[]\n",
        "for i in range(len(Name)):\n",
        "    N+=[i]\n",
        "\n",
        "normal_mapping=dict(zip(Name,N))\n",
        "reverse_mapping=dict(zip(N,Name))\n",
        "\n",
        "def mapper(value):\n",
        "    return reverse_mapping[value]\n",
        "\n",
        "File=[]\n",
        "for file in os.listdir(directory):\n",
        "    File+=[file]\n",
        "    print(file)"
      ]
    },
    {
      "cell_type": "code",
      "execution_count": null,
      "metadata": {
        "id": "Ye-wH83AFC1W"
      },
      "outputs": [],
      "source": [
        "dataset=[]\n",
        "testset=[]\n",
        "count=0\n",
        "for file in File:\n",
        "    path=os.path.join(directory,file)\n",
        "    t=0\n",
        "    for im in os.listdir(path):\n",
        "        if im[-4:]!='pt.m' and im[-4:]!='.txt':\n",
        "            image=load_img(os.path.join(path,im), grayscale=False, color_mode='rgb', target_size=(60,60))\n",
        "            image=img_to_array(image)\n",
        "            image=image/255.0\n",
        "            if t<400:\n",
        "                dataset.append([image,count])\n",
        "            else:\n",
        "                testset.append([image,count])\n",
        "            t+=1\n",
        "    count=count+1"
      ]
    },
    {
      "cell_type": "code",
      "execution_count": null,
      "metadata": {
        "id": "T6BkZqB3FKIy"
      },
      "outputs": [],
      "source": [
        "data,labels0=zip(*dataset)\n",
        "test,tlabels0=zip(*testset)"
      ]
    },
    {
      "cell_type": "code",
      "execution_count": null,
      "metadata": {
        "id": "iYnUVMEKFOvv"
      },
      "outputs": [],
      "source": [
        "labels1=to_categorical(labels0)\n",
        "data=np.array(data)\n",
        "labels=np.array(labels1)"
      ]
    },
    {
      "cell_type": "code",
      "execution_count": null,
      "metadata": {
        "id": "y0rKx7bLFSmK"
      },
      "outputs": [],
      "source": [
        "tlabels1=to_categorical(tlabels0)\n",
        "test=np.array(test)\n",
        "tlabels=np.array(tlabels1)"
      ]
    },
    {
      "cell_type": "code",
      "execution_count": null,
      "metadata": {
        "id": "17DnhhK1FVSY"
      },
      "outputs": [],
      "source": [
        "trainx,testx,trainy,testy=train_test_split(data,labels,test_size=0.2,random_state=44)"
      ]
    },
    {
      "cell_type": "code",
      "execution_count": null,
      "metadata": {
        "colab": {
          "base_uri": "https://localhost:8080/"
        },
        "id": "aov8Z3VjQoqr",
        "outputId": "9d8c4420-ab95-4b58-8a15-19c734334689"
      },
      "outputs": [
        {
          "output_type": "stream",
          "name": "stdout",
          "text": [
            "(1877, 60, 60, 3)\n",
            "(470, 60, 60, 3)\n",
            "(1877, 8)\n",
            "(470, 8)\n"
          ]
        }
      ],
      "source": [
        "print(trainx.shape)\n",
        "print(testx.shape)\n",
        "print(trainy.shape)\n",
        "print(testy.shape)"
      ]
    },
    {
      "cell_type": "code",
      "execution_count": null,
      "metadata": {
        "id": "EGdD7jRfFYnR"
      },
      "outputs": [],
      "source": [
        "datagen = ImageDataGenerator(horizontal_flip=True,vertical_flip=True,rotation_range=20,zoom_range=0.2,\n",
        "                        width_shift_range=0.2,height_shift_range=0.2,shear_range=0.1,fill_mode=\"nearest\")"
      ]
    },
    {
      "cell_type": "code",
      "execution_count": null,
      "metadata": {
        "colab": {
          "base_uri": "https://localhost:8080/"
        },
        "id": "ln575Do9Fcwk",
        "outputId": "92cac17e-3e3a-4fc7-beca-f23f8b241313"
      },
      "outputs": [
        {
          "output_type": "stream",
          "name": "stdout",
          "text": [
            "Downloading data from https://storage.googleapis.com/tensorflow/keras-applications/densenet/densenet201_weights_tf_dim_ordering_tf_kernels_notop.h5\n",
            "74836368/74836368 [==============================] - 1s 0us/step\n"
          ]
        }
      ],
      "source": [
        "pretrained_model3 = tf.keras.applications.DenseNet201(input_shape=(60,60,3),include_top=False,weights='imagenet',pooling='avg')\n",
        "pretrained_model3.trainable = False"
      ]
    },
    {
      "cell_type": "code",
      "execution_count": null,
      "metadata": {
        "id": "qjXIpEYIFdvV"
      },
      "outputs": [],
      "source": [
        "inputs3 = pretrained_model3.input\n",
        "x3 = tf.keras.layers.Dense(128, activation='relu')(pretrained_model3.output)\n",
        "outputs3 = tf.keras.layers.Dense(8, activation='softmax')(x3)\n",
        "model = tf.keras.Model(inputs=inputs3, outputs=outputs3)"
      ]
    },
    {
      "cell_type": "code",
      "execution_count": null,
      "metadata": {
        "id": "mz2BQGwFFfxX"
      },
      "outputs": [],
      "source": [
        "model.compile(optimizer='adam',loss='categorical_crossentropy',metrics=['accuracy'])"
      ]
    },
    {
      "cell_type": "code",
      "execution_count": null,
      "metadata": {
        "colab": {
          "base_uri": "https://localhost:8080/"
        },
        "id": "tLZrRgzVOctj",
        "outputId": "cc0c27ad-2132-47b2-f65c-f4e37f262148"
      },
      "outputs": [
        {
          "output_type": "stream",
          "name": "stdout",
          "text": [
            "Epoch 1/20\n",
            "59/59 [==============================] - 55s 711ms/step - loss: 1.4557 - accuracy: 0.4337 - val_loss: 1.1954 - val_accuracy: 0.5936\n",
            "Epoch 2/20\n",
            "59/59 [==============================] - 37s 631ms/step - loss: 1.0546 - accuracy: 0.6105 - val_loss: 0.8732 - val_accuracy: 0.7085\n",
            "Epoch 3/20\n",
            "59/59 [==============================] - 35s 601ms/step - loss: 0.9463 - accuracy: 0.6452 - val_loss: 0.7338 - val_accuracy: 0.7681\n",
            "Epoch 4/20\n",
            "59/59 [==============================] - 32s 544ms/step - loss: 0.8731 - accuracy: 0.6905 - val_loss: 0.5616 - val_accuracy: 0.8596\n",
            "Epoch 5/20\n",
            "59/59 [==============================] - 37s 630ms/step - loss: 0.7994 - accuracy: 0.7059 - val_loss: 0.5285 - val_accuracy: 0.8638\n",
            "Epoch 6/20\n",
            "59/59 [==============================] - 37s 629ms/step - loss: 0.7647 - accuracy: 0.7315 - val_loss: 0.4687 - val_accuracy: 0.8617\n",
            "Epoch 7/20\n",
            "59/59 [==============================] - 37s 629ms/step - loss: 0.7107 - accuracy: 0.7624 - val_loss: 0.4472 - val_accuracy: 0.8830\n",
            "Epoch 8/20\n",
            "59/59 [==============================] - 36s 612ms/step - loss: 0.6612 - accuracy: 0.7853 - val_loss: 0.4198 - val_accuracy: 0.8872\n",
            "Epoch 9/20\n",
            "59/59 [==============================] - 38s 653ms/step - loss: 0.6583 - accuracy: 0.7677 - val_loss: 0.4186 - val_accuracy: 0.8660\n",
            "Epoch 10/20\n",
            "59/59 [==============================] - 36s 608ms/step - loss: 0.6313 - accuracy: 0.7778 - val_loss: 0.4404 - val_accuracy: 0.8660\n",
            "Epoch 11/20\n",
            "59/59 [==============================] - 36s 618ms/step - loss: 0.6396 - accuracy: 0.7677 - val_loss: 0.3572 - val_accuracy: 0.8936\n",
            "Epoch 12/20\n",
            "59/59 [==============================] - 37s 631ms/step - loss: 0.6045 - accuracy: 0.7858 - val_loss: 0.4535 - val_accuracy: 0.8574\n",
            "Epoch 13/20\n",
            "59/59 [==============================] - 37s 631ms/step - loss: 0.6408 - accuracy: 0.7709 - val_loss: 0.3627 - val_accuracy: 0.8936\n",
            "Epoch 14/20\n",
            "59/59 [==============================] - 37s 618ms/step - loss: 0.5824 - accuracy: 0.7922 - val_loss: 0.3208 - val_accuracy: 0.9106\n",
            "Epoch 15/20\n",
            "59/59 [==============================] - 33s 557ms/step - loss: 0.5768 - accuracy: 0.7869 - val_loss: 0.3647 - val_accuracy: 0.9021\n",
            "Epoch 16/20\n",
            "59/59 [==============================] - 37s 629ms/step - loss: 0.5773 - accuracy: 0.7970 - val_loss: 0.3141 - val_accuracy: 0.9191\n",
            "Epoch 17/20\n",
            "59/59 [==============================] - 32s 541ms/step - loss: 0.5636 - accuracy: 0.8029 - val_loss: 0.3096 - val_accuracy: 0.9149\n",
            "Epoch 18/20\n",
            "59/59 [==============================] - 32s 539ms/step - loss: 0.5636 - accuracy: 0.7960 - val_loss: 0.2765 - val_accuracy: 0.9191\n",
            "Epoch 19/20\n",
            "59/59 [==============================] - 37s 627ms/step - loss: 0.5368 - accuracy: 0.8071 - val_loss: 0.4013 - val_accuracy: 0.8766\n",
            "Epoch 20/20\n",
            "59/59 [==============================] - 38s 653ms/step - loss: 0.5533 - accuracy: 0.8013 - val_loss: 0.2930 - val_accuracy: 0.9234\n"
          ]
        }
      ],
      "source": [
        "his = model.fit(datagen.flow(trainx, trainy, batch_size=32), validation_data=(testx, testy), epochs=20)"
      ]
    },
    {
      "cell_type": "code",
      "execution_count": null,
      "metadata": {
        "id": "zuSnkYnCFo49",
        "colab": {
          "base_uri": "https://localhost:8080/"
        },
        "outputId": "446ef957-7373-4775-fe67-7519ee69fd5b"
      },
      "outputs": [
        {
          "output_type": "stream",
          "name": "stdout",
          "text": [
            "15/15 [==============================] - 14s 712ms/step\n",
            "              precision    recall  f1-score   support\n",
            "\n",
            "           0       0.95      0.92      0.94        78\n",
            "           2       0.99      0.97      0.98        87\n",
            "           3       0.90      0.87      0.88        75\n",
            "           4       0.96      0.85      0.90        78\n",
            "           6       0.96      0.94      0.95        90\n",
            "           7       0.78      1.00      0.88        62\n",
            "\n",
            "    accuracy                           0.92       470\n",
            "   macro avg       0.92      0.92      0.92       470\n",
            "weighted avg       0.93      0.92      0.92       470\n",
            "\n"
          ]
        }
      ],
      "source": [
        "y_pred=model.predict(testx)\n",
        "pred=np.argmax(y_pred,axis=1)\n",
        "ground = np.argmax(testy,axis=1)\n",
        "print(classification_report(ground,pred))"
      ]
    },
    {
      "cell_type": "code",
      "execution_count": null,
      "metadata": {
        "id": "dlOc9dwZFpru",
        "colab": {
          "base_uri": "https://localhost:8080/",
          "height": 469
        },
        "outputId": "eac40d37-a38f-40dc-9db4-17c67da5400a"
      },
      "outputs": [
        {
          "output_type": "display_data",
          "data": {
            "text/plain": [
              "<Figure size 640x480 with 1 Axes>"
            ],
            "image/png": "[encoded data removed]"
          },
          "metadata": {}
        },
        {
          "output_type": "display_data",
          "data": {
            "text/plain": [
              "<Figure size 640x480 with 0 Axes>"
            ]
          },
          "metadata": {}
        }
      ],
      "source": [
        "get_acc = his.history['accuracy']\n",
        "value_acc = his.history['val_accuracy']\n",
        "get_loss = his.history['loss']\n",
        "validation_loss = his.history['val_loss']\n",
        "\n",
        "epochs = range(len(get_acc))\n",
        "plt.plot(epochs, get_acc, 'r', label='Accuracy of Training data')\n",
        "plt.plot(epochs, value_acc, 'b', label='Accuracy of Validation data')\n",
        "plt.title('Training vs validation accuracy')\n",
        "plt.legend(loc=0)\n",
        "plt.figure()\n",
        "plt.show()"
      ]
    },
    {
      "cell_type": "code",
      "execution_count": null,
      "metadata": {
        "id": "wbItodXGFstY",
        "colab": {
          "base_uri": "https://localhost:8080/",
          "height": 469
        },
        "outputId": "a4ceb2a5-fa52-41ad-c804-6003e45e1d7a"
      },
      "outputs": [
        {
          "output_type": "display_data",
          "data": {
            "text/plain": [
              "<Figure size 640x480 with 1 Axes>"
            ],
            "image/png": "[encoded data removed]"
          },
          "metadata": {}
        },
        {
          "output_type": "display_data",
          "data": {
            "text/plain": [
              "<Figure size 640x480 with 0 Axes>"
            ]
          },
          "metadata": {}
        }
      ],
      "source": [
        "epochs = range(len(get_loss))\n",
        "plt.plot(epochs, get_loss, 'r', label='Loss of Training data')\n",
        "plt.plot(epochs, validation_loss, 'b', label='Loss of Validation data')\n",
        "plt.title('Training vs validation loss')\n",
        "plt.legend(loc=0)\n",
        "plt.figure()\n",
        "plt.show()"
      ]
    },
    {
      "cell_type": "code",
      "execution_count": null,
      "metadata": {
        "id": "PDd9o8N0Fvb7",
        "colab": {
          "base_uri": "https://localhost:8080/",
          "height": 77
        },
        "outputId": "dbf9ab05-b4a8-40ed-d7ab-e789001069c7"
      },
      "outputs": [
        {
          "output_type": "execute_result",
          "data": {
            "text/plain": [
              "<PIL.Image.Image image mode=RGB size=60x60>"
            ],
            "image/png": "[encoded data removed]"
          },
          "metadata": {},
          "execution_count": 24
        }
      ],
      "source": [
        "load_img(\"/content/drive/MyDrive/Colab Notebooks/HandGesture/images/rock_on/1317.jpg\",target_size=(60,60))"
      ]
    },
    {
      "cell_type": "code",
      "execution_count": null,
      "metadata": {
        "id": "aqhWtyUIFyy0"
      },
      "outputs": [],
      "source": [
        "image=load_img(\"/content/drive/MyDrive/Colab Notebooks/HandGesture/images/rock_on/1317.jpg\",target_size=(60,60))\n",
        "\n",
        "image=img_to_array(image)\n",
        "image=image/255.0\n",
        "prediction_image=np.array(image)\n",
        "prediction_image= np.expand_dims(image, axis=0)"
      ]
    },
    {
      "cell_type": "code",
      "execution_count": null,
      "metadata": {
        "id": "M7z8dUzgF1B5",
        "colab": {
          "base_uri": "https://localhost:8080/"
        },
        "outputId": "a78c1d1e-2279-491f-a369-765712518079"
      },
      "outputs": [
        {
          "output_type": "stream",
          "name": "stdout",
          "text": [
            "1/1 [==============================] - 0s 102ms/step\n",
            "Prediction is rock_on.\n"
          ]
        }
      ],
      "source": [
        "prediction=model.predict(prediction_image)\n",
        "value=np.argmax(prediction)\n",
        "move_name=mapper(value)\n",
        "print(\"Prediction is {}.\".format(move_name))"
      ]
    },
    {
      "cell_type": "code",
      "execution_count": null,
      "metadata": {
        "id": "miWf86Z4F3Ix",
        "colab": {
          "base_uri": "https://localhost:8080/"
        },
        "outputId": "48b37191-85b5-4716-cdd4-cb3cc1046243"
      },
      "outputs": [
        {
          "output_type": "stream",
          "name": "stdout",
          "text": [
            "(607, 60, 60, 3)\n",
            "19/19 [==============================] - 9s 462ms/step\n",
            "(607, 8)\n"
          ]
        }
      ],
      "source": [
        "print(test.shape)\n",
        "prediction2=model.predict(test)\n",
        "print(prediction2.shape)\n",
        "\n",
        "PRED=[]\n",
        "for item in prediction2:\n",
        "    value2=np.argmax(item)\n",
        "    PRED+=[value2]"
      ]
    },
    {
      "cell_type": "code",
      "execution_count": null,
      "metadata": {
        "id": "_T65BIEnF5o4"
      },
      "outputs": [],
      "source": [
        "ANS=tlabels0"
      ]
    },
    {
      "cell_type": "code",
      "execution_count": null,
      "metadata": {
        "id": "8HotngY_F73K",
        "colab": {
          "base_uri": "https://localhost:8080/"
        },
        "outputId": "64d6683b-212c-4a6b-fbdf-ed81b6e118a8"
      },
      "outputs": [
        {
          "output_type": "stream",
          "name": "stdout",
          "text": [
            "0.9093904448105437\n"
          ]
        }
      ],
      "source": [
        "accuracy=accuracy_score(ANS,PRED)\n",
        "print(accuracy)"
      ]
    },
    {
      "cell_type": "markdown",
      "metadata": {
        "id": "eyjcAB4NGBEi"
      },
      "source": [
        "Model Save And Load"
      ]
    },
    {
      "cell_type": "code",
      "execution_count": null,
      "metadata": {
        "id": "UpAPdKyCGBwu",
        "colab": {
          "base_uri": "https://localhost:8080/"
        },
        "outputId": "183df9ce-7c7c-45ce-b5a6-05eab9bd998b"
      },
      "outputs": [
        {
          "output_type": "stream",
          "name": "stderr",
          "text": [
            "/usr/local/lib/python3.10/dist-packages/keras/src/engine/training.py:3103: UserWarning: You are saving your model as an HDF5 file via `model.save()`. This file format is considered legacy. We recommend using instead the native Keras format, e.g. `model.save('my_model.keras')`.\n",
            "  saving_api.save_model(\n"
          ]
        }
      ],
      "source": [
        "model.save('handgest.hdf5')\n",
        "model2 = keras.models.load_model('handgest.hdf5')"
      ]
    },
    {
      "cell_type": "code",
      "execution_count": null,
      "metadata": {
        "id": "3sadBRg8GFBT",
        "colab": {
          "base_uri": "https://localhost:8080/"
        },
        "outputId": "cf356e79-15e3-4e38-a9f7-d5847cb5edb8"
      },
      "outputs": [
        {
          "output_type": "stream",
          "name": "stdout",
          "text": [
            "19/19 [==============================] - 18s 774ms/step\n"
          ]
        }
      ],
      "source": [
        "prediction3=model2.predict(test)\n",
        "\n",
        "PRED3=[]\n",
        "for item in prediction3:\n",
        "    value3=np.argmax(item)\n",
        "    PRED3+=[value3]"
      ]
    },
    {
      "cell_type": "code",
      "execution_count": null,
      "metadata": {
        "id": "wLcW3utEGHQ7",
        "colab": {
          "base_uri": "https://localhost:8080/"
        },
        "outputId": "6ced4744-1ee1-424c-cab6-e0f303008b55"
      },
      "outputs": [
        {
          "output_type": "stream",
          "name": "stdout",
          "text": [
            "0.9093904448105437\n"
          ]
        }
      ],
      "source": [
        "accuracy3=accuracy_score(ANS,PRED3)\n",
        "print(accuracy3)"
      ]
    }
  ],
  "metadata": {
    "colab": {
      "provenance": []
    },
    "kernelspec": {
      "display_name": "Python 3",
      "name": "python3"
    },
    "language_info": {
      "name": "python"
    }
  },
  "nbformat": 4,
  "nbformat_minor": 0
}